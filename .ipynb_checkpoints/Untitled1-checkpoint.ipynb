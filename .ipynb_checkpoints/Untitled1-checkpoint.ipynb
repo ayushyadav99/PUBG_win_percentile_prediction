{
 "cells": [
  {
   "cell_type": "code",
   "execution_count": 2,
   "metadata": {},
   "outputs": [],
   "source": [
    "import pandas as pd\n",
    "import numpy as np\n",
    "import seaborn as sns\n",
    "from sklearn.linear_model import LinearRegression\n",
    "from sklearn.model_selection import train_test_split\n",
    "from sklearn import metrics\n",
    "import matplotlib.pyplot as plt"
   ]
  },
  {
   "cell_type": "code",
   "execution_count": 3,
   "metadata": {},
   "outputs": [],
   "source": [
    "train = pd.read_csv(\"train_sampled.csv\")\n",
    "train.columns = ['Id','groupId','matchId','assists','boosts','damageDealt','DBNOs','headshotKills','heals','killPlace','killPoints','kills','killStreaks','longestKill','matchDuration','matchType','maxPlace','numGroups','rankPoints','revives','rideDistance','roadKills','swimDistance','teamKills','vehicleDestroys','walkDistance','weaponsAcquired','winPoints','winPlacePerc']\n"
   ]
  },
  {
   "cell_type": "code",
   "execution_count": 4,
   "metadata": {},
   "outputs": [],
   "source": [
    "train['playersJoined'] = train.groupby('matchId')['matchId'].transform('count')\n",
    "train['healsandboosts'] = train['heals'] + train['boosts']\n",
    "train['totaldistance'] = train['rideDistance'] + train['swimDistance'] + train['walkDistance']\n"
   ]
  },
  {
   "cell_type": "code",
   "execution_count": 5,
   "metadata": {},
   "outputs": [],
   "source": [
    "train['killswithoutmoving'] = ((train['totaldistance']==0) & (train['kills'] > 0))"
   ]
  },
  {
   "cell_type": "code",
   "execution_count": 6,
   "metadata": {},
   "outputs": [],
   "source": [
    "train.drop(train[train['killswithoutmoving'] == True].index, inplace=True)"
   ]
  },
  {
   "cell_type": "code",
   "execution_count": null,
   "metadata": {},
   "outputs": [],
   "source": [
    "columns = ['playersJoined', 'kills', 'damageDealt', 'maxPlace', 'matchDuration', 'assists', 'healsandboosts', 'DBNOs', 'killPlace', 'walkDistance', 'winPoints']\n",
    "X = train[columns]\n",
    "y = train['winPlacePerc']\n",
    "\n",
    "train_X, val_X, train_y, val_y = train_test_split(X,y, test_size=0.2, random_state=1)\n",
    "model = LinearRegression()\n",
    "model.fit(train_X, train_y)\n",
    "pred = model.predict(val_X)\n",
    "print(np.sqrt(metrics.mean_squared_error(val_y, pred)))\n",
    "print(model.score(val_X, val_y))"
   ]
  },
  {
   "cell_type": "code",
   "execution_count": null,
   "metadata": {},
   "outputs": [],
   "source": []
  }
 ],
 "metadata": {
  "kernelspec": {
   "display_name": "Python 3",
   "language": "python",
   "name": "python3"
  },
  "language_info": {
   "codemirror_mode": {
    "name": "ipython",
    "version": 3
   },
   "file_extension": ".py",
   "mimetype": "text/x-python",
   "name": "python",
   "nbconvert_exporter": "python",
   "pygments_lexer": "ipython3",
   "version": "3.7.3"
  }
 },
 "nbformat": 4,
 "nbformat_minor": 2
}
